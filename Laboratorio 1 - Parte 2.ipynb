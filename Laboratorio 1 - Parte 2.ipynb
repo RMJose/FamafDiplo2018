{
 "cells": [
  {
   "cell_type": "code",
   "execution_count": 58,
   "metadata": {},
   "outputs": [],
   "source": [
    "%matplotlib inline\n",
    "import pandas as pd\n",
    "import copy\n",
    "import matplotlib.pyplot as plt\n",
    "import numpy as np\n",
    "import seaborn as sns\n",
    "#import corrplot\n",
    "\n",
    "# styling\n",
    "pd.set_option('display.max_columns',150)\n",
    "plt.style.use('bmh')\n",
    "from IPython.display import display\n",
    "\n",
    "import warnings\n",
    "warnings.filterwarnings(\"ignore\")\n",
    "\n",
    "# a bit of machine learning\n",
    "from sklearn.metrics import recall_score, precision_score\n",
    "from sklearn.cross_validation import KFold, train_test_split, cross_val_score\n",
    "from sklearn.model_selection import GridSearchCV\n",
    "\n",
    "datos = pd.read_csv('./responses.csv')\n",
    "\n",
    "#ATENCION. ACA LENVANTE EL ARCHIVO EN MI JUPYTER. VER COMO MEJORAR ESTO. ES DECIR; QUE FUNCIONE EN CUALQUIER PC o en GITHUB\n"
   ]
  },
  {
   "cell_type": "markdown",
   "metadata": {},
   "source": [
    "●\tCalcular la probabilidad marginal y conjunta, y la correlación entre otras dos variables, por ejemplo consumo de alcohol y tabaquismo.\n",
    "\n",
    "○\tRepresentar visualmente la probabilidad conjunta entre los valores posibles de las variables elegidas.\n"
   ]
  },
  {
   "cell_type": "markdown",
   "metadata": {},
   "source": [
    "### Probabilidades marginales de Alcohol y Tabaquismo"
   ]
  },
  {
   "cell_type": "code",
   "execution_count": 59,
   "metadata": {},
   "outputs": [
    {
     "data": {
      "text/plain": [
       "tried smoking     0.429142\n",
       "never smoked      0.207585\n",
       "current smoker    0.188623\n",
       "former smoker     0.174651\n",
       "Name: Smoking, dtype: float64"
      ]
     },
     "execution_count": 59,
     "metadata": {},
     "output_type": "execute_result"
    }
   ],
   "source": [
    "#Probabilidades marginales de Alcohol y Tabaquismo.\n",
    "\n",
    "#Distribucion de la variable Tabaquismo. \n",
    "datos['Smoking'].dropna().value_counts() / len(datos['Smoking'].dropna())\n"
   ]
  },
  {
   "cell_type": "markdown",
   "metadata": {},
   "source": [
    "Considerando el evento \"FUMA\" solo a la condicion \"current smoker\", la probabilidad marginal del evento \"FUMA\" es:\n"
   ]
  },
  {
   "cell_type": "code",
   "execution_count": 60,
   "metadata": {},
   "outputs": [
    {
     "name": "stdout",
     "output_type": "stream",
     "text": [
      "La probabilidad marginal de que una persona sea fumador es: 0.18862275449101795\n"
     ]
    }
   ],
   "source": [
    "#creo un Dataframe\n",
    "df=pd.DataFrame(pd.value_counts(datos['Smoking'].dropna()))\n",
    "\n",
    "#Obtengo solo los fumadores\n",
    "fumadores=df[(df.index=='current smoker') ]\n",
    "\n",
    "#obtengo la cantidad de casos\n",
    "totalcasos = df['Smoking'].sum()\n",
    "\n",
    "#obtengo la probabilidad marginal de que una persona sea fumador.\n",
    "\n",
    "ProbabilidadFumador = fumadores['Smoking'].sum()/totalcasos\n",
    "\n",
    "print('La probabilidad marginal de que una persona sea fumador es:' , ProbabilidadFumador) \n"
   ]
  },
  {
   "cell_type": "code",
   "execution_count": 61,
   "metadata": {},
   "outputs": [
    {
     "data": {
      "text/plain": [
       "social drinker    0.657685\n",
       "drink a lot       0.221557\n",
       "never             0.123752\n",
       "Name: Alcohol, dtype: float64"
      ]
     },
     "execution_count": 61,
     "metadata": {},
     "output_type": "execute_result"
    }
   ],
   "source": [
    "#Distribucion de la variable Alcolismo. \n",
    "datos['Alcohol'].dropna().value_counts() / len(datos['Smoking'].dropna())\n"
   ]
  },
  {
   "cell_type": "markdown",
   "metadata": {},
   "source": [
    "Considerando el evento \"Alcoholico\" solo a la condicion \"drink a lot\", la probabilidad marginal del evento \"es Alcoholico\" es:"
   ]
  },
  {
   "cell_type": "code",
   "execution_count": 62,
   "metadata": {},
   "outputs": [
    {
     "name": "stdout",
     "output_type": "stream",
     "text": [
      "La probabilidad marginal de que una persona sea alcoholico es: 0.2208955223880597\n"
     ]
    }
   ],
   "source": [
    "#creo un Dataframe\n",
    "df=pd.DataFrame(pd.value_counts(datos['Alcohol'].dropna()))\n",
    "\n",
    "#Obtengo solo los fumadores\n",
    "alcoholicos=df[(df.index=='drink a lot') ]\n",
    "\n",
    "#obtengo la cantidad de casos\n",
    "totalcasosAlcoholicos = df['Alcohol'].sum()\n",
    "\n",
    "#obtengo la probabilidad marginal de que una persona sea fumador.\n",
    "\n",
    "ProbabilidadAlcoholico = alcoholicos['Alcohol'].sum()/totalcasosAlcoholicos\n",
    "\n",
    "print('La probabilidad marginal de que una persona sea alcoholico es:' , ProbabilidadAlcoholico) "
   ]
  },
  {
   "cell_type": "markdown",
   "metadata": {},
   "source": [
    "### La probabilidad Conjunta, es decir, de que una persona sea fumador y alcoholico es la interseccion de los 2 eventos, que al ser independientes, se calcula como p(E∩F)=p(E)×p(F)"
   ]
  },
  {
   "cell_type": "code",
   "execution_count": 63,
   "metadata": {},
   "outputs": [
    {
     "name": "stdout",
     "output_type": "stream",
     "text": [
      "La probabilidad conjunta es: 0.041665921887568146\n"
     ]
    }
   ],
   "source": [
    "ProbabilidadConjunta = ProbabilidadFumador * ProbabilidadAlcoholico\n",
    "\n",
    "print('La probabilidad conjunta es:' , ProbabilidadConjunta)"
   ]
  },
  {
   "cell_type": "markdown",
   "metadata": {},
   "source": [
    "#### Calculamos la Correlacion entre ambas variables"
   ]
  },
  {
   "cell_type": "code",
   "execution_count": 64,
   "metadata": {},
   "outputs": [
    {
     "name": "stdout",
     "output_type": "stream",
     "text": [
      "Correlacion entre Fumar y Tomar\n"
     ]
    },
    {
     "data": {
      "text/html": [
       "<div>\n",
       "<style scoped>\n",
       "    .dataframe tbody tr th:only-of-type {\n",
       "        vertical-align: middle;\n",
       "    }\n",
       "\n",
       "    .dataframe tbody tr th {\n",
       "        vertical-align: top;\n",
       "    }\n",
       "\n",
       "    .dataframe thead th {\n",
       "        text-align: right;\n",
       "    }\n",
       "</style>\n",
       "<table border=\"1\" class=\"dataframe\">\n",
       "  <thead>\n",
       "    <tr style=\"text-align: right;\">\n",
       "      <th></th>\n",
       "    </tr>\n",
       "  </thead>\n",
       "  <tbody>\n",
       "  </tbody>\n",
       "</table>\n",
       "</div>"
      ],
      "text/plain": [
       "Empty DataFrame\n",
       "Columns: []\n",
       "Index: []"
      ]
     },
     "execution_count": 64,
     "metadata": {},
     "output_type": "execute_result"
    }
   ],
   "source": [
    "relacionFumadoresAlcoholicos=datos.loc[:, ['Smoking', 'Alcohol']]\n",
    "print(\"Correlacion entre Fumar y Tomar\")\n",
    "relacionFumadoresAlcoholicos.corr()"
   ]
  },
  {
   "cell_type": "markdown",
   "metadata": {},
   "source": [
    "Para ver la relacion de 2 variables categoricas podemos utilizar tablas de doble entrada (tablas de contingencia)\n"
   ]
  },
  {
   "cell_type": "code",
   "execution_count": 65,
   "metadata": {},
   "outputs": [
    {
     "data": {
      "text/html": [
       "<div>\n",
       "<style scoped>\n",
       "    .dataframe tbody tr th:only-of-type {\n",
       "        vertical-align: middle;\n",
       "    }\n",
       "\n",
       "    .dataframe tbody tr th {\n",
       "        vertical-align: top;\n",
       "    }\n",
       "\n",
       "    .dataframe thead th {\n",
       "        text-align: right;\n",
       "    }\n",
       "</style>\n",
       "<table border=\"1\" class=\"dataframe\">\n",
       "  <thead>\n",
       "    <tr style=\"text-align: right;\">\n",
       "      <th>Alcohol</th>\n",
       "      <th>drink a lot</th>\n",
       "      <th>never</th>\n",
       "      <th>social drinker</th>\n",
       "      <th>All</th>\n",
       "    </tr>\n",
       "    <tr>\n",
       "      <th>Smoking</th>\n",
       "      <th></th>\n",
       "      <th></th>\n",
       "      <th></th>\n",
       "      <th></th>\n",
       "    </tr>\n",
       "  </thead>\n",
       "  <tbody>\n",
       "    <tr>\n",
       "      <th>current smoker</th>\n",
       "      <td>78</td>\n",
       "      <td>11</td>\n",
       "      <td>99</td>\n",
       "      <td>188</td>\n",
       "    </tr>\n",
       "    <tr>\n",
       "      <th>former smoker</th>\n",
       "      <td>55</td>\n",
       "      <td>11</td>\n",
       "      <td>109</td>\n",
       "      <td>175</td>\n",
       "    </tr>\n",
       "    <tr>\n",
       "      <th>never smoked</th>\n",
       "      <td>15</td>\n",
       "      <td>61</td>\n",
       "      <td>131</td>\n",
       "      <td>207</td>\n",
       "    </tr>\n",
       "    <tr>\n",
       "      <th>tried smoking</th>\n",
       "      <td>72</td>\n",
       "      <td>39</td>\n",
       "      <td>319</td>\n",
       "      <td>430</td>\n",
       "    </tr>\n",
       "    <tr>\n",
       "      <th>All</th>\n",
       "      <td>220</td>\n",
       "      <td>122</td>\n",
       "      <td>658</td>\n",
       "      <td>1000</td>\n",
       "    </tr>\n",
       "  </tbody>\n",
       "</table>\n",
       "</div>"
      ],
      "text/plain": [
       "Alcohol         drink a lot  never  social drinker   All\n",
       "Smoking                                                 \n",
       "current smoker           78     11              99   188\n",
       "former smoker            55     11             109   175\n",
       "never smoked             15     61             131   207\n",
       "tried smoking            72     39             319   430\n",
       "All                     220    122             658  1000"
      ]
     },
     "execution_count": 65,
     "metadata": {},
     "output_type": "execute_result"
    }
   ],
   "source": [
    "pd.crosstab(index=datos['Smoking'],\n",
    "            columns=datos['Alcohol'], margins=True)"
   ]
  },
  {
   "cell_type": "code",
   "execution_count": 66,
   "metadata": {},
   "outputs": [
    {
     "data": {
      "text/html": [
       "<div>\n",
       "<style scoped>\n",
       "    .dataframe tbody tr th:only-of-type {\n",
       "        vertical-align: middle;\n",
       "    }\n",
       "\n",
       "    .dataframe tbody tr th {\n",
       "        vertical-align: top;\n",
       "    }\n",
       "\n",
       "    .dataframe thead th {\n",
       "        text-align: right;\n",
       "    }\n",
       "</style>\n",
       "<table border=\"1\" class=\"dataframe\">\n",
       "  <thead>\n",
       "    <tr style=\"text-align: right;\">\n",
       "      <th>Alcohol</th>\n",
       "      <th>drink a lot</th>\n",
       "      <th>never</th>\n",
       "      <th>social drinker</th>\n",
       "      <th>All</th>\n",
       "    </tr>\n",
       "    <tr>\n",
       "      <th>Smoking</th>\n",
       "      <th></th>\n",
       "      <th></th>\n",
       "      <th></th>\n",
       "      <th></th>\n",
       "    </tr>\n",
       "  </thead>\n",
       "  <tbody>\n",
       "    <tr>\n",
       "      <th>current smoker</th>\n",
       "      <td>7.722772</td>\n",
       "      <td>1.089109</td>\n",
       "      <td>9.801980</td>\n",
       "      <td>18.613861</td>\n",
       "    </tr>\n",
       "    <tr>\n",
       "      <th>former smoker</th>\n",
       "      <td>5.445545</td>\n",
       "      <td>1.089109</td>\n",
       "      <td>10.792079</td>\n",
       "      <td>17.326733</td>\n",
       "    </tr>\n",
       "    <tr>\n",
       "      <th>never smoked</th>\n",
       "      <td>1.485149</td>\n",
       "      <td>6.039604</td>\n",
       "      <td>12.970297</td>\n",
       "      <td>20.495050</td>\n",
       "    </tr>\n",
       "    <tr>\n",
       "      <th>tried smoking</th>\n",
       "      <td>7.128713</td>\n",
       "      <td>3.861386</td>\n",
       "      <td>31.584158</td>\n",
       "      <td>42.574257</td>\n",
       "    </tr>\n",
       "    <tr>\n",
       "      <th>All</th>\n",
       "      <td>21.782178</td>\n",
       "      <td>12.079208</td>\n",
       "      <td>65.148515</td>\n",
       "      <td>99.009901</td>\n",
       "    </tr>\n",
       "  </tbody>\n",
       "</table>\n",
       "</div>"
      ],
      "text/plain": [
       "Alcohol         drink a lot      never  social drinker        All\n",
       "Smoking                                                          \n",
       "current smoker     7.722772   1.089109        9.801980  18.613861\n",
       "former smoker      5.445545   1.089109       10.792079  17.326733\n",
       "never smoked       1.485149   6.039604       12.970297  20.495050\n",
       "tried smoking      7.128713   3.861386       31.584158  42.574257\n",
       "All               21.782178  12.079208       65.148515  99.009901"
      ]
     },
     "execution_count": 66,
     "metadata": {},
     "output_type": "execute_result"
    }
   ],
   "source": [
    "# tabla de contingencia en porcentajes relativos total\n",
    "\n",
    "tablaCruzada=pd.crosstab(index=datos['Smoking'], columns=datos['Alcohol'],\n",
    "            margins=True).apply(lambda r: r/len(datos) *100,\n",
    "                                axis=1)\n",
    "\n",
    "tablaCruzada\n",
    "\n",
    "#tablaCruzadaSmoke=pd.crosstab(index=datos['Alcohol'], columns=datos['Smoking'],\n",
    " #           margins=True).apply(lambda r: r/len(datos) *100,\n",
    " #                               axis=1)\n",
    "#\n",
    "\n"
   ]
  },
  {
   "cell_type": "code",
   "execution_count": 67,
   "metadata": {},
   "outputs": [
    {
     "data": {
      "image/png": "[encoded data removed]",
      "text/plain": [
       "<matplotlib.figure.Figure at 0x1f06450d320>"
      ]
     },
     "metadata": {},
     "output_type": "display_data"
    }
   ],
   "source": [
    "fig, ax = plt.subplots(figsize=(20,10))         # Sample figsize in inches\n",
    "sns.heatmap(tablaCruzada.iloc[:, 0:100:], annot=True, linewidths=.5, ax=ax)\n",
    "sns.set(font_scale=0.9)"
   ]
  },
  {
   "cell_type": "code",
   "execution_count": null,
   "metadata": {},
   "outputs": [],
   "source": [
    "\n"
   ]
  },
  {
   "cell_type": "code",
   "execution_count": 68,
   "metadata": {},
   "outputs": [
    {
     "data": {
      "text/html": [
       "<div>\n",
       "<style scoped>\n",
       "    .dataframe tbody tr th:only-of-type {\n",
       "        vertical-align: middle;\n",
       "    }\n",
       "\n",
       "    .dataframe tbody tr th {\n",
       "        vertical-align: top;\n",
       "    }\n",
       "\n",
       "    .dataframe thead th {\n",
       "        text-align: right;\n",
       "    }\n",
       "</style>\n",
       "<table border=\"1\" class=\"dataframe\">\n",
       "  <thead>\n",
       "    <tr style=\"text-align: right;\">\n",
       "      <th>Alcohol</th>\n",
       "      <th>drink a lot</th>\n",
       "      <th>never</th>\n",
       "      <th>social drinker</th>\n",
       "      <th>All</th>\n",
       "    </tr>\n",
       "    <tr>\n",
       "      <th>Smoking</th>\n",
       "      <th></th>\n",
       "      <th></th>\n",
       "      <th></th>\n",
       "      <th></th>\n",
       "    </tr>\n",
       "  </thead>\n",
       "  <tbody>\n",
       "    <tr>\n",
       "      <th>current smoker</th>\n",
       "      <td>7.722772</td>\n",
       "      <td>1.089109</td>\n",
       "      <td>9.801980</td>\n",
       "      <td>18.613861</td>\n",
       "    </tr>\n",
       "    <tr>\n",
       "      <th>former smoker</th>\n",
       "      <td>5.445545</td>\n",
       "      <td>1.089109</td>\n",
       "      <td>10.792079</td>\n",
       "      <td>17.326733</td>\n",
       "    </tr>\n",
       "    <tr>\n",
       "      <th>never smoked</th>\n",
       "      <td>1.485149</td>\n",
       "      <td>6.039604</td>\n",
       "      <td>12.970297</td>\n",
       "      <td>20.495050</td>\n",
       "    </tr>\n",
       "    <tr>\n",
       "      <th>tried smoking</th>\n",
       "      <td>7.128713</td>\n",
       "      <td>3.861386</td>\n",
       "      <td>31.584158</td>\n",
       "      <td>42.574257</td>\n",
       "    </tr>\n",
       "    <tr>\n",
       "      <th>All</th>\n",
       "      <td>21.782178</td>\n",
       "      <td>12.079208</td>\n",
       "      <td>65.148515</td>\n",
       "      <td>99.009901</td>\n",
       "    </tr>\n",
       "  </tbody>\n",
       "</table>\n",
       "</div>"
      ],
      "text/plain": [
       "Alcohol         drink a lot      never  social drinker        All\n",
       "Smoking                                                          \n",
       "current smoker     7.722772   1.089109        9.801980  18.613861\n",
       "former smoker      5.445545   1.089109       10.792079  17.326733\n",
       "never smoked       1.485149   6.039604       12.970297  20.495050\n",
       "tried smoking      7.128713   3.861386       31.584158  42.574257\n",
       "All               21.782178  12.079208       65.148515  99.009901"
      ]
     },
     "execution_count": 68,
     "metadata": {},
     "output_type": "execute_result"
    }
   ],
   "source": [
    "#Una vez trabajado con los comandos crosstab o pivot, utilizamos sobre el resultado, el comando corr() para poder asi correlacionar variables que eran del tipo categoriacas (ya que corrstab me transformo lo categorico en numerico)\n",
    "\n",
    "#pivot\n",
    "#crosstab\n",
    "tablaCruzada"
   ]
  },
  {
   "cell_type": "code",
   "execution_count": 69,
   "metadata": {},
   "outputs": [
    {
     "data": {
      "text/html": [
       "<div>\n",
       "<style scoped>\n",
       "    .dataframe tbody tr th:only-of-type {\n",
       "        vertical-align: middle;\n",
       "    }\n",
       "\n",
       "    .dataframe tbody tr th {\n",
       "        vertical-align: top;\n",
       "    }\n",
       "\n",
       "    .dataframe thead tr th {\n",
       "        text-align: left;\n",
       "    }\n",
       "\n",
       "    .dataframe thead tr:last-of-type th {\n",
       "        text-align: right;\n",
       "    }\n",
       "</style>\n",
       "<table border=\"1\" class=\"dataframe\">\n",
       "  <thead>\n",
       "    <tr>\n",
       "      <th></th>\n",
       "      <th></th>\n",
       "      <th colspan=\"9\" halign=\"left\">index</th>\n",
       "    </tr>\n",
       "    <tr>\n",
       "      <th></th>\n",
       "      <th>Alcohol</th>\n",
       "      <th>NaN</th>\n",
       "      <th>drink a lot</th>\n",
       "      <th>never</th>\n",
       "      <th>social drinker</th>\n",
       "      <th>NaN</th>\n",
       "      <th>current smoker</th>\n",
       "      <th>former smoker</th>\n",
       "      <th>never smoked</th>\n",
       "      <th>tried smoking</th>\n",
       "    </tr>\n",
       "    <tr>\n",
       "      <th></th>\n",
       "      <th>Alcohol</th>\n",
       "      <th></th>\n",
       "      <th></th>\n",
       "      <th></th>\n",
       "      <th></th>\n",
       "      <th></th>\n",
       "      <th></th>\n",
       "      <th></th>\n",
       "      <th></th>\n",
       "      <th></th>\n",
       "    </tr>\n",
       "  </thead>\n",
       "  <tbody>\n",
       "    <tr>\n",
       "      <th rowspan=\"9\" valign=\"top\">index</th>\n",
       "      <th>NaN</th>\n",
       "      <td>1.000000</td>\n",
       "      <td>-0.037438</td>\n",
       "      <td>-0.026387</td>\n",
       "      <td>-0.096648</td>\n",
       "      <td>0.471112</td>\n",
       "      <td>0.002328</td>\n",
       "      <td>-0.032291</td>\n",
       "      <td>-0.001036</td>\n",
       "      <td>-0.060733</td>\n",
       "    </tr>\n",
       "    <tr>\n",
       "      <th>drink a lot</th>\n",
       "      <td>-0.037438</td>\n",
       "      <td>1.000000</td>\n",
       "      <td>-0.198567</td>\n",
       "      <td>-0.727281</td>\n",
       "      <td>0.006516</td>\n",
       "      <td>0.223494</td>\n",
       "      <td>0.104451</td>\n",
       "      <td>-0.181622</td>\n",
       "      <td>-0.108869</td>\n",
       "    </tr>\n",
       "    <tr>\n",
       "      <th>never</th>\n",
       "      <td>-0.026387</td>\n",
       "      <td>-0.198567</td>\n",
       "      <td>1.000000</td>\n",
       "      <td>-0.512605</td>\n",
       "      <td>0.034641</td>\n",
       "      <td>-0.094404</td>\n",
       "      <td>-0.083581</td>\n",
       "      <td>0.264579</td>\n",
       "      <td>-0.084154</td>\n",
       "    </tr>\n",
       "    <tr>\n",
       "      <th>social drinker</th>\n",
       "      <td>-0.096648</td>\n",
       "      <td>-0.727281</td>\n",
       "      <td>-0.512605</td>\n",
       "      <td>1.000000</td>\n",
       "      <td>-0.098978</td>\n",
       "      <td>-0.129642</td>\n",
       "      <td>-0.028475</td>\n",
       "      <td>-0.024242</td>\n",
       "      <td>0.161626</td>\n",
       "    </tr>\n",
       "    <tr>\n",
       "      <th>NaN</th>\n",
       "      <td>0.471112</td>\n",
       "      <td>0.006516</td>\n",
       "      <td>0.034641</td>\n",
       "      <td>-0.098978</td>\n",
       "      <td>1.000000</td>\n",
       "      <td>-0.042872</td>\n",
       "      <td>-0.040906</td>\n",
       "      <td>-0.045505</td>\n",
       "      <td>-0.076936</td>\n",
       "    </tr>\n",
       "    <tr>\n",
       "      <th>current smoker</th>\n",
       "      <td>0.002328</td>\n",
       "      <td>0.223494</td>\n",
       "      <td>-0.094404</td>\n",
       "      <td>-0.129642</td>\n",
       "      <td>-0.042872</td>\n",
       "      <td>1.000000</td>\n",
       "      <td>-0.219652</td>\n",
       "      <td>-0.244345</td>\n",
       "      <td>-0.413123</td>\n",
       "    </tr>\n",
       "    <tr>\n",
       "      <th>former smoker</th>\n",
       "      <td>-0.032291</td>\n",
       "      <td>0.104451</td>\n",
       "      <td>-0.083581</td>\n",
       "      <td>-0.028475</td>\n",
       "      <td>-0.040906</td>\n",
       "      <td>-0.219652</td>\n",
       "      <td>1.000000</td>\n",
       "      <td>-0.233142</td>\n",
       "      <td>-0.394181</td>\n",
       "    </tr>\n",
       "    <tr>\n",
       "      <th>never smoked</th>\n",
       "      <td>-0.001036</td>\n",
       "      <td>-0.181622</td>\n",
       "      <td>0.264579</td>\n",
       "      <td>-0.024242</td>\n",
       "      <td>-0.045505</td>\n",
       "      <td>-0.244345</td>\n",
       "      <td>-0.233142</td>\n",
       "      <td>1.000000</td>\n",
       "      <td>-0.438495</td>\n",
       "    </tr>\n",
       "    <tr>\n",
       "      <th>tried smoking</th>\n",
       "      <td>-0.060733</td>\n",
       "      <td>-0.108869</td>\n",
       "      <td>-0.084154</td>\n",
       "      <td>0.161626</td>\n",
       "      <td>-0.076936</td>\n",
       "      <td>-0.413123</td>\n",
       "      <td>-0.394181</td>\n",
       "      <td>-0.438495</td>\n",
       "      <td>1.000000</td>\n",
       "    </tr>\n",
       "  </tbody>\n",
       "</table>\n",
       "</div>"
      ],
      "text/plain": [
       "                         index                                                 \\\n",
       "Alcohol                    NaN drink a lot     never social drinker       NaN   \n",
       "      Alcohol                                                                   \n",
       "index NaN             1.000000   -0.037438 -0.026387      -0.096648  0.471112   \n",
       "      drink a lot    -0.037438    1.000000 -0.198567      -0.727281  0.006516   \n",
       "      never          -0.026387   -0.198567  1.000000      -0.512605  0.034641   \n",
       "      social drinker -0.096648   -0.727281 -0.512605       1.000000 -0.098978   \n",
       "      NaN             0.471112    0.006516  0.034641      -0.098978  1.000000   \n",
       "      current smoker  0.002328    0.223494 -0.094404      -0.129642 -0.042872   \n",
       "      former smoker  -0.032291    0.104451 -0.083581      -0.028475 -0.040906   \n",
       "      never smoked   -0.001036   -0.181622  0.264579      -0.024242 -0.045505   \n",
       "      tried smoking  -0.060733   -0.108869 -0.084154       0.161626 -0.076936   \n",
       "\n",
       "                                                                              \n",
       "Alcohol              current smoker former smoker never smoked tried smoking  \n",
       "      Alcohol                                                                 \n",
       "index NaN                  0.002328     -0.032291    -0.001036     -0.060733  \n",
       "      drink a lot          0.223494      0.104451    -0.181622     -0.108869  \n",
       "      never               -0.094404     -0.083581     0.264579     -0.084154  \n",
       "      social drinker      -0.129642     -0.028475    -0.024242      0.161626  \n",
       "      NaN                 -0.042872     -0.040906    -0.045505     -0.076936  \n",
       "      current smoker       1.000000     -0.219652    -0.244345     -0.413123  \n",
       "      former smoker       -0.219652      1.000000    -0.233142     -0.394181  \n",
       "      never smoked        -0.244345     -0.233142     1.000000     -0.438495  \n",
       "      tried smoking       -0.413123     -0.394181    -0.438495      1.000000  "
      ]
     },
     "execution_count": 69,
     "metadata": {},
     "output_type": "execute_result"
    }
   ],
   "source": [
    "Parte1= datos[['Alcohol']].reset_index().pivot(columns=\"Alcohol\") >=0\n",
    "Parte2 =datos[['Smoking']].reset_index().pivot(columns=\"Smoking\") >=0\n",
    "\n",
    "union = [Parte1, Parte2]\n",
    "tabla =pd.concat([Parte1, Parte2], axis=1, join='inner')\n",
    "\n",
    "tabla.corr()"
   ]
  },
  {
   "cell_type": "markdown",
   "metadata": {},
   "source": [
    "Esta tabla muestra la correlacion entre las variables Fumar y Tomar Alcohol"
   ]
  },
  {
   "cell_type": "markdown",
   "metadata": {},
   "source": [
    "●\tResponda a la siguientes preguntas: "
   ]
  },
  {
   "cell_type": "markdown",
   "metadata": {},
   "source": [
    "¿Qué pasaría con los niveles de tabaquismo si se prohíbe fumar en los bares? \n",
    "No se puede sacar este dato dado que no tenemos esa varible. Si podriamos inferirla asumiendo que los tomadores \"sociales\" son aquellos fumadores que comienzan probando. En dicho caso, si se prohibiera fumar en los bares, habria una probabilidad de que se reduzca un 32 % "
   ]
  },
  {
   "cell_type": "markdown",
   "metadata": {},
   "source": [
    "¿Qué pasaría con la cantidad de consumidores de alcohol si disminuye la cantidad de fumadores que consumen alcohol?\n",
    "\n",
    "La cantidad bajaria un 7,7%"
   ]
  },
  {
   "cell_type": "markdown",
   "metadata": {},
   "source": [
    "Estas deduciones se realizan tomando la tabla de contingencia, por lo cual, trabajando con probabilidades conjuntas. Otra alternativa es trabajar con probabilidades condicionales\n"
   ]
  },
  {
   "cell_type": "code",
   "execution_count": null,
   "metadata": {},
   "outputs": [],
   "source": []
  }
 ],
 "metadata": {
  "kernelspec": {
   "display_name": "Python 3",
   "language": "python",
   "name": "python3"
  },
  "language_info": {
   "codemirror_mode": {
    "name": "ipython",
    "version": 3
   },
   "file_extension": ".py",
   "mimetype": "text/x-python",
   "name": "python",
   "nbconvert_exporter": "python",
   "pygments_lexer": "ipython3",
   "version": "3.6.4"
  }
 },
 "nbformat": 4,
 "nbformat_minor": 2
}
