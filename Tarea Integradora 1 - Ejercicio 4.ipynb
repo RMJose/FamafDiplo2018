{
 "cells": [
  {
   "cell_type": "markdown",
   "metadata": {},
   "source": [
    "# Tarea Integradora 1 - Ejercicio 4"
   ]
  },
  {
   "cell_type": "markdown",
   "metadata": {},
   "source": [
    "Dada la variable aleatoria Z = ’contexto1 en el que se produjo el hecho’, calcular la probabilidad que el hecho sea producido en una dependencia de una fuerza de seguridad (penal, comisaría, etc)\n",
    "\n",
    "fdp(z=penal ~~ |~~  z=comisaria ~~ | ...) $$"
   ]
  },
  {
   "cell_type": "code",
   "execution_count": 2,
   "metadata": {},
   "outputs": [],
   "source": [
    "#Traemos las librerias necesarias y el set de datos\n",
    "\n",
    "%matplotlib inline\n",
    "import pandas\n",
    "import numpy\n",
    "import seaborn\n",
    "\n",
    "seaborn.set_style('whitegrid')\n",
    "seaborn.set_context('talk')\n",
    "\n",
    "#Cargamos en una variable llamada \"Dataset\" los datos del csv de violencia\n",
    "dataset = pandas.read_csv('https://cs.famaf.unc.edu.ar/~mteruel/datasets/diplodatos/violencia-institucional-2018-01.csv', encoding='utf8')\n",
    "\n"
   ]
  },
  {
   "cell_type": "code",
   "execution_count": 3,
   "metadata": {},
   "outputs": [
    {
     "data": {
      "text/plain": [
       "Penal / Complejo Penitenciario PROVINCIAL                              506\n",
       "Penal / Complejo Penitenciario FEDERAL                                 445\n",
       "Espacio Público                                                        212\n",
       "Comisaría                                                              127\n",
       "Domicilio Particular                                                    23\n",
       "Centros de Detención Previos al Juicio (Alcaidia)                       16\n",
       "Móviles y medios de transporte de Fuerzas de Seguridad                  13\n",
       "Lugar No Identificado                                                   12\n",
       "Establecimiento de Salud Mental                                          7\n",
       "Centros de Detención Preventiva                                          6\n",
       "Hospital General                                                         5\n",
       "Instalaciones de la Gendarmería Nacional                                 4\n",
       "Escuelas de Formación Fuerzas Provinciales                               3\n",
       "Instalaciones de las Fuerzas Armadas (cuarteles, regimientos, etc.)      2\n",
       "Centros de Alojamiento para Personas Menores de Edad                     2\n",
       "Establecimiento de Rehabilitación de Adicciones                          1\n",
       "Escuelas de Formación Fuerzas Nacionales                                 1\n",
       "Name: contexto1, dtype: int64"
      ]
     },
     "execution_count": 3,
     "metadata": {},
     "output_type": "execute_result"
    }
   ],
   "source": [
    "#Entendemos que lo que se busca es encontrar la probabilidad de que en caso de ocurrir un hecho, que el mismo se haya dado en un PENAL o Comisaria.\n",
    "#Para entontrar la misma debemos sumar ambas probabilidades. P(A) + P(B)\n",
    "\n",
    "#A= Hecho producido en una comisaria\n",
    "#B= Hecho producido en un Penal\n",
    "\n",
    "#Primero listamos las ocurrencias por cada tipo de Conexto1.\n",
    "\n",
    "listado=pandas.value_counts(dataset['contexto1'].dropna())\n",
    "listado\n",
    "\n"
   ]
  },
  {
   "cell_type": "code",
   "execution_count": 4,
   "metadata": {},
   "outputs": [
    {
     "data": {
      "text/html": [
       "<div>\n",
       "<style scoped>\n",
       "    .dataframe tbody tr th:only-of-type {\n",
       "        vertical-align: middle;\n",
       "    }\n",
       "\n",
       "    .dataframe tbody tr th {\n",
       "        vertical-align: top;\n",
       "    }\n",
       "\n",
       "    .dataframe thead th {\n",
       "        text-align: right;\n",
       "    }\n",
       "</style>\n",
       "<table border=\"1\" class=\"dataframe\">\n",
       "  <thead>\n",
       "    <tr style=\"text-align: right;\">\n",
       "      <th></th>\n",
       "      <th>contexto1</th>\n",
       "    </tr>\n",
       "  </thead>\n",
       "  <tbody>\n",
       "    <tr>\n",
       "      <th>Penal / Complejo Penitenciario PROVINCIAL</th>\n",
       "      <td>506</td>\n",
       "    </tr>\n",
       "    <tr>\n",
       "      <th>Penal / Complejo Penitenciario FEDERAL</th>\n",
       "      <td>445</td>\n",
       "    </tr>\n",
       "    <tr>\n",
       "      <th>Espacio Público</th>\n",
       "      <td>212</td>\n",
       "    </tr>\n",
       "    <tr>\n",
       "      <th>Comisaría</th>\n",
       "      <td>127</td>\n",
       "    </tr>\n",
       "    <tr>\n",
       "      <th>Domicilio Particular</th>\n",
       "      <td>23</td>\n",
       "    </tr>\n",
       "    <tr>\n",
       "      <th>Centros de Detención Previos al Juicio (Alcaidia)</th>\n",
       "      <td>16</td>\n",
       "    </tr>\n",
       "    <tr>\n",
       "      <th>Móviles y medios de transporte de Fuerzas de Seguridad</th>\n",
       "      <td>13</td>\n",
       "    </tr>\n",
       "    <tr>\n",
       "      <th>Lugar No Identificado</th>\n",
       "      <td>12</td>\n",
       "    </tr>\n",
       "    <tr>\n",
       "      <th>Establecimiento de Salud Mental</th>\n",
       "      <td>7</td>\n",
       "    </tr>\n",
       "    <tr>\n",
       "      <th>Centros de Detención Preventiva</th>\n",
       "      <td>6</td>\n",
       "    </tr>\n",
       "    <tr>\n",
       "      <th>Hospital General</th>\n",
       "      <td>5</td>\n",
       "    </tr>\n",
       "    <tr>\n",
       "      <th>Instalaciones de la Gendarmería Nacional</th>\n",
       "      <td>4</td>\n",
       "    </tr>\n",
       "    <tr>\n",
       "      <th>Escuelas de Formación Fuerzas Provinciales</th>\n",
       "      <td>3</td>\n",
       "    </tr>\n",
       "    <tr>\n",
       "      <th>Instalaciones de las Fuerzas Armadas (cuarteles, regimientos, etc.)</th>\n",
       "      <td>2</td>\n",
       "    </tr>\n",
       "    <tr>\n",
       "      <th>Centros de Alojamiento para Personas Menores de Edad</th>\n",
       "      <td>2</td>\n",
       "    </tr>\n",
       "    <tr>\n",
       "      <th>Establecimiento de Rehabilitación de Adicciones</th>\n",
       "      <td>1</td>\n",
       "    </tr>\n",
       "    <tr>\n",
       "      <th>Escuelas de Formación Fuerzas Nacionales</th>\n",
       "      <td>1</td>\n",
       "    </tr>\n",
       "  </tbody>\n",
       "</table>\n",
       "</div>"
      ],
      "text/plain": [
       "                                                    contexto1\n",
       "Penal / Complejo Penitenciario PROVINCIAL                 506\n",
       "Penal / Complejo Penitenciario FEDERAL                    445\n",
       "Espacio Público                                           212\n",
       "Comisaría                                                 127\n",
       "Domicilio Particular                                       23\n",
       "Centros de Detención Previos al Juicio (Alcaidia)          16\n",
       "Móviles y medios de transporte de Fuerzas de Se...         13\n",
       "Lugar No Identificado                                      12\n",
       "Establecimiento de Salud Mental                             7\n",
       "Centros de Detención Preventiva                             6\n",
       "Hospital General                                            5\n",
       "Instalaciones de la Gendarmería Nacional                    4\n",
       "Escuelas de Formación Fuerzas Provinciales                  3\n",
       "Instalaciones de las Fuerzas Armadas (cuarteles...          2\n",
       "Centros de Alojamiento para Personas Menores de...          2\n",
       "Establecimiento de Rehabilitación de Adicciones             1\n",
       "Escuelas de Formación Fuerzas Nacionales                    1"
      ]
     },
     "execution_count": 4,
     "metadata": {},
     "output_type": "execute_result"
    }
   ],
   "source": [
    "#Debemos sumar la probabilidad de ocurrencias de Penal y Comisaria.\n",
    "\n",
    "#creo un Dataframe\n",
    "df=pandas.DataFrame(pandas.value_counts(dataset['contexto1'].dropna()))\n",
    "df\n",
    "\n"
   ]
  },
  {
   "cell_type": "code",
   "execution_count": 5,
   "metadata": {},
   "outputs": [],
   "source": [
    "#df[\"contexto1\"][1]\n",
    "\n",
    "\n",
    "df1=df[(df.index=='Penal / Complejo Penitenciario PROVINCIAL') ]\n",
    "df2=df[(df.index=='Penal / Complejo Penitenciario FEDERAL') ]\n",
    "df3=df[(df.index=='Comisaría') ]\n",
    "\n",
    "#Con estas 3 sentencias obtengo los valores de las 3 tipos de hechos a sumar. Faltaria llevarlos a probabilidades y sumarlos.\n"
   ]
  },
  {
   "cell_type": "code",
   "execution_count": 6,
   "metadata": {},
   "outputs": [
    {
     "name": "stdout",
     "output_type": "stream",
     "text": [
      "la probabilidad que el hecho sea producido en una dependencia de una fuerza de seguridad (penal, comisaría, etc)\n",
      "\n",
      "P(z=PENAL Provincial | z=Penal FEDERAL |z=COMISARIA) = \n"
     ]
    },
    {
     "data": {
      "text/plain": [
       "0.7783393501805054"
      ]
     },
     "execution_count": 6,
     "metadata": {},
     "output_type": "execute_result"
    }
   ],
   "source": [
    "totalcasos = df['contexto1'].sum()\n",
    "totalDf1 = df1['contexto1'].sum()/totalcasos\n",
    "totalDf2 = df2['contexto1'].sum()/totalcasos\n",
    "totalDf3 = df3['contexto1'].sum()/totalcasos\n",
    "print('la probabilidad que el hecho sea producido en una dependencia de una fuerza de seguridad (penal, comisaría, etc)')\n",
    "print('')\n",
    "print('P(z=PENAL Provincial | z=Penal FEDERAL |z=COMISARIA) = ')\n",
    "(totalDf1 + totalDf2 + totalDf3)"
   ]
  },
  {
   "cell_type": "code",
   "execution_count": null,
   "metadata": {},
   "outputs": [],
   "source": []
  }
 ],
 "metadata": {
  "kernelspec": {
   "display_name": "Python 3",
   "language": "python",
   "name": "python3"
  },
  "language_info": {
   "codemirror_mode": {
    "name": "ipython",
    "version": 3
   },
   "file_extension": ".py",
   "mimetype": "text/x-python",
   "name": "python",
   "nbconvert_exporter": "python",
   "pygments_lexer": "ipython3",
   "version": "3.6.4"
  }
 },
 "nbformat": 4,
 "nbformat_minor": 2
}
