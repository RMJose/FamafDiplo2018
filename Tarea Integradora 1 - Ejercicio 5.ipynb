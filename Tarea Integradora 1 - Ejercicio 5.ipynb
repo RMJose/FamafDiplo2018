{
 "cells": [
  {
   "cell_type": "markdown",
   "metadata": {},
   "source": [
    "# Tarea Integradora 1 - Ejercicio 5"
   ]
  },
  {
   "cell_type": "markdown",
   "metadata": {},
   "source": [
    "Dada la variable aleatoria M = ‘existió violencia fisica’:\n",
    "\n",
    "¿Que probabilidad existe que también tenga violencia psíquica? N = ‘existió violencia psíquica’\n",
    "\n",
    "$$P(M~~|~~N)$$\n",
    "\n",
    "¿Qué conclusión se puede formular de los datos que tenemos y los datos que obtenemos de los métodos probabilísticos?\n",
    "¿Podemos concluir en que son eventos independientes dadas las muestras?"
   ]
  },
  {
   "cell_type": "code",
   "execution_count": 21,
   "metadata": {},
   "outputs": [],
   "source": [
    "#Traemos las librerias necesarias y el set de datos\n",
    "\n",
    "%matplotlib inline\n",
    "import pandas\n",
    "import numpy\n",
    "import seaborn\n",
    "\n",
    "seaborn.set_style('whitegrid')\n",
    "seaborn.set_context('talk')\n",
    "\n",
    "#Cargamos en una variable llamada \"Dataset\" los datos del csv de violencia\n",
    "dataset = pandas.read_csv('https://cs.famaf.unc.edu.ar/~mteruel/datasets/diplodatos/violencia-institucional-2018-01.csv', encoding='utf8')"
   ]
  },
  {
   "cell_type": "markdown",
   "metadata": {},
   "source": [
    "Evento M= Existio violencia fisica. Es la afirmacion.\n",
    "Eventp N= Hubo violencia psiquica. Es lo que debemos calcular la probabilidad.\n",
    "\n",
    "Bayes dice:\n",
    "    dado 2 eventos (A y B).  Dado que paso B, que probabilidad hay de que haya sucedido A.\n",
    "    \n",
    "Contemplando esto, debemos calcular:\n",
    "    \n",
    "    P(A/B)= (P(B/A)*P(A))/P(B)\n",
    "    \n",
    "Que en nuestro ejemplo seria:\n",
    "    \n",
    "    P(N/M)= (P(M/N)*P(N))/P(M)\n",
    "\n",
    "P(N)= Total de casos con violencia psiquica / Total de casos  (487/13608)\n",
    "\n",
    "P(M)= Total de casos con violencia fisica / Total de casos (591/13608)\n",
    "\n",
    "P(M/N)= No esta como dato, por lo cual propongo calcularlo como: Casos donde hubo violencia fisica y psiquica / Total de casos  (126/13608)"
   ]
  },
  {
   "cell_type": "code",
   "execution_count": 50,
   "metadata": {},
   "outputs": [
    {
     "name": "stdout",
     "output_type": "stream",
     "text": [
      "Total de eventos: 13608\n",
      "Total de eventos Violencia fisica (vfisica): 590\n",
      "Total de eventos Violencia psiquica (vpsiquica): 487\n",
      "P(M=vfisica): 0.04335684891240447\n",
      "P(N=vpsiquica): 0.03578777189888301\n",
      "P(M/N) = 0.009259259259259259\n",
      "P(N/M) = 0.007642812303829253\n"
     ]
    }
   ],
   "source": [
    "#Traemos las librerias necesarias y el set de datos\n",
    "\n",
    "%matplotlib inline\n",
    "import pandas\n",
    "import numpy\n",
    "import seaborn\n",
    "\n",
    "seaborn.set_style('whitegrid')\n",
    "seaborn.set_context('talk')\n",
    "\n",
    "#Cargamos en una variable llamada \"Dataset\" los datos del csv de violencia\n",
    "dataset = pandas.read_csv('https://cs.famaf.unc.edu.ar/~mteruel/datasets/diplodatos/violencia-institucional-2018-01.csv', encoding='utf8')\n",
    "#dataset\n",
    "totalEventos = dataset.count(axis=0).sum()\n",
    "print(\"Total de eventos: \" + str(total))\n",
    "listado=dataset['violencia_fisica'].dropna().count()\n",
    "print(\"Total de eventos Violencia fisica (vfisica): \" + str(listado))\n",
    "listado2=dataset['violencia_psiquica'].dropna().count()\n",
    "print(\"Total de eventos Violencia psiquica (vpsiquica): \" + str(listado2))\n",
    "pf = listado/totalEventos;\n",
    "print(\"P(M=vfisica): \" + str(pf))\n",
    "pp = listado2/totalEventos;\n",
    "print(\"P(N=vpsiquica): \" + str(pp))\n",
    "\n",
    "\n",
    "df1 = dataset.loc[:, ['violencia_fisica', 'violencia_psiquica']]\n",
    "df1 = df1.dropna(subset=['violencia_fisica','violencia_psiquica'])\n",
    "dfx=df1['violencia_fisica']\n",
    "totalVFVP = dfx.count()/totalEventos\n",
    "print(\"P(M/N) = \" + str(totalVFVP))\n",
    "\n",
    "p = totalVFVP * pp / pf\n",
    "\n",
    "print('P(N/M) = ' + str(p))"
   ]
  },
  {
   "cell_type": "code",
   "execution_count": 53,
   "metadata": {},
   "outputs": [
    {
     "name": "stdout",
     "output_type": "stream",
     "text": [
      "P(M)*P(N) = 0.0015516450191314652\n"
     ]
    }
   ],
   "source": [
    "#¿Podemos concluir en que son eventos independientes dadas las muestras?\n",
    "print('P(M)*P(N) = ' + str(pf* pp) )\n"
   ]
  },
  {
   "cell_type": "markdown",
   "metadata": {},
   "source": [
    "Dado que P(M)*P(N) es != de P(M^N) podemos concluir que son eventos independientes"
   ]
  }
 ],
 "metadata": {
  "kernelspec": {
   "display_name": "Python 3",
   "language": "python",
   "name": "python3"
  },
  "language_info": {
   "codemirror_mode": {
    "name": "ipython",
    "version": 3
   },
   "file_extension": ".py",
   "mimetype": "text/x-python",
   "name": "python",
   "nbconvert_exporter": "python",
   "pygments_lexer": "ipython3",
   "version": "3.6.4"
  }
 },
 "nbformat": 4,
 "nbformat_minor": 2
}
