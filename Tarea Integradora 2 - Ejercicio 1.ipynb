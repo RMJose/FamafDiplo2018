{
 "cells": [
  {
   "cell_type": "markdown",
   "metadata": {},
   "source": [
    "\n",
    "# Tarea integradora - Parte 2\n",
    "\n",
    "En esta notebook trabajeremos con variables aleatorias contínuas y distribuciones de probabilidad conocidas. En lugar de la librería pandas, utilizaremos scipy que también implementa numerosas funciones útiles para proceso de datos numéricos."
   ]
  },
  {
   "cell_type": "markdown",
   "metadata": {},
   "source": [
    "## Ejercicio 1\n",
    "\n",
    "Desarrollar analíticamente el tiempo de vida en horas que una computadora funciona antes de descomponerse es una v.a.\n",
    "continua con f.d.p. dada por\n",
    "\n",
    "$$\n",
    "f ( x ) = \\begin{cases}\n",
    "~~ 0.01e^{0.01}x & si ~~ x ≥ 0 \\\\\n",
    "~~ 0 & si ~~ x<0\n",
    "\\end{cases}\n",
    "$$"
   ]
  },
  {
   "cell_type": "code",
   "execution_count": 82,
   "metadata": {},
   "outputs": [
    {
     "data": {
      "image/png": "[encoded data removed]",
      "text/plain": [
       "<matplotlib.figure.Figure at 0x7f96eeb3d208>"
      ]
     },
     "metadata": {},
     "output_type": "display_data"
    }
   ],
   "source": [
    "#El tiempo de vida en horas de una computadora antes de descomponerse puede observarse en la siguiente funcion\n",
    "#en la cual se puede observa la una funcion exponcial decreciente que tiende a 0 al superar x > 200 horas\n",
    "\n",
    "%matplotlib inline\n",
    "import numpy as np  \n",
    "import matplotlib.pyplot as plt  \n",
    "def graph(formula, x_range):  \n",
    "    x = np.array(x_range)  \n",
    "    y = eval(formula)\n",
    "    z = y/y*0\n",
    "    plt.plot(x, y) \n",
    "    plt.plot(x, z)\n",
    "    plt.show()\n",
    "    \n",
    "graph('0.01*np.exp(-0.01*x)', range(-300, 300))"
   ]
  },
  {
   "cell_type": "markdown",
   "metadata": {},
   "source": [
    "\n",
    "* Hallar la F.d.a. de X\n"
   ]
  },
  {
   "cell_type": "code",
   "execution_count": 83,
   "metadata": {},
   "outputs": [
    {
     "data": {
      "image/png": "[encoded data removed]",
      "text/latex": [
       "$$- 1.0 e^{- 0.01 x}$$"
      ],
      "text/plain": [
       "      -0.01*x\n",
       "-1.0*e       "
      ]
     },
     "execution_count": 83,
     "metadata": {},
     "output_type": "execute_result"
    }
   ],
   "source": [
    "integrate(0.01*exp(-0.01*x),x)"
   ]
  },
  {
   "cell_type": "markdown",
   "metadata": {},
   "source": [
    "* ¿Cuál es la probabilidad que la computadora funcione entre 50 y 150 horas antes de descomponerse?"
   ]
  },
  {
   "cell_type": "code",
   "execution_count": 89,
   "metadata": {},
   "outputs": [
    {
     "name": "stdout",
     "output_type": "stream",
     "text": [
      "P(descomponerse 50<x<150) = \n"
     ]
    },
    {
     "data": {
      "image/png": "[encoded data removed]",
      "text/latex": [
       "$$0.383400499564204$$"
      ],
      "text/plain": [
       "0.383400499564204"
      ]
     },
     "execution_count": 89,
     "metadata": {},
     "output_type": "execute_result"
    }
   ],
   "source": [
    "\n",
    "from sympy import *\n",
    "init_printing(use_unicode=False, wrap_line=False, no_global=True)\n",
    "x = Symbol('x')\n",
    "\n",
    "print('P(descomponerse 50<x<150) = ')\n",
    "integrate(0.01*exp(-0.01*x), (x,50, 150))\n",
    "\n"
   ]
  },
  {
   "cell_type": "code",
   "execution_count": null,
   "metadata": {},
   "outputs": [],
   "source": [
    "* ¿Cuál es la probabilidad que una computadora se descomponga antes de registrar 100 horas de uso"
   ]
  },
  {
   "cell_type": "code",
   "execution_count": 88,
   "metadata": {},
   "outputs": [
    {
     "name": "stdout",
     "output_type": "stream",
     "text": [
      "P(descomponerse x<100) = \n"
     ]
    },
    {
     "data": {
      "image/png": "[encoded data removed]",
      "text/latex": [
       "$$0.628423308977954$$"
      ],
      "text/plain": [
       "0.628423308977954"
      ]
     },
     "execution_count": 88,
     "metadata": {},
     "output_type": "execute_result"
    }
   ],
   "source": [
    "print('P(descomponerse x<100) = ')\n",
    "integrate(0.01*exp(-0.01*x), (x,0, 99))\n"
   ]
  },
  {
   "cell_type": "code",
   "execution_count": null,
   "metadata": {},
   "outputs": [],
   "source": []
  }
 ],
 "metadata": {
  "kernelspec": {
   "display_name": "Python 3",
   "language": "python",
   "name": "python3"
  },
  "language_info": {
   "codemirror_mode": {
    "name": "ipython",
    "version": 3
   },
   "file_extension": ".py",
   "mimetype": "text/x-python",
   "name": "python",
   "nbconvert_exporter": "python",
   "pygments_lexer": "ipython3",
   "version": "3.6.4"
  }
 },
 "nbformat": 4,
 "nbformat_minor": 2
}
